{
 "cells": [
  {
   "cell_type": "code",
   "execution_count": 17,
   "id": "83c857fd-5341-47e8-a591-c61f14993e67",
   "metadata": {},
   "outputs": [],
   "source": [
    "import tensorflow as tf\n",
    "from tensorflow.keras.preprocessing.image import ImageDataGenerator\n",
    "from tensorflow.keras.models import Sequential\n",
    "from tensorflow.keras.layers import Conv2D, MaxPooling2D, Flatten, Dense\n",
    "import cv2\n",
    "import numpy as np"
   ]
  },
  {
   "cell_type": "code",
   "execution_count": 8,
   "id": "14ca717b-e575-4bf9-ba80-0c1df4f7974b",
   "metadata": {},
   "outputs": [
    {
     "name": "stdout",
     "output_type": "stream",
     "text": [
      "Found 2770 images belonging to 3 classes.\n",
      "Found 2770 images belonging to 3 classes.\n"
     ]
    }
   ],
   "source": [
    "#Data partition for training and testing\n",
    "train_datagen=ImageDataGenerator(rescale=1./255, validation_split=0.3)\n",
    "test_datagen=ImageDataGenerator(rescale=1./255)\n",
    "train_generator=train_datagen.flow_from_directory(\"captcha_data_2k\",batch_size=48,class_mode=\"categorical\", seed=42)\n",
    "test_generator=test_datagen.flow_from_directory(\"captcha_data_2k\",batch_size=48,class_mode=\"categorical\", seed=42)"
   ]
  },
  {
   "cell_type": "code",
   "execution_count": 9,
   "id": "01f5aa2b-2a79-48e9-9267-fbce28b8a6dd",
   "metadata": {},
   "outputs": [],
   "source": [
    "#CNN Model\n",
    "model=Sequential()\n",
    "model.add(Conv2D(64,(3,3),activation=\"relu\"))\n",
    "model.add(MaxPooling2D((2, 2)))\n",
    "model.add(Flatten())\n",
    "model.add(Dense(64, activation=\"relu\"))\n",
    "model.add(Dense(3, activation=\"softmax\"))"
   ]
  },
  {
   "cell_type": "code",
   "execution_count": 10,
   "id": "18d7b5d4-e33a-409d-89e8-77a485cf2498",
   "metadata": {},
   "outputs": [],
   "source": [
    "#Compiling the model\n",
    "model.compile(loss=\"categorical_crossentropy\",optimizer=\"adam\",metrics=[\"accuracy\"])"
   ]
  },
  {
   "cell_type": "code",
   "execution_count": 11,
   "id": "0c3204a7-431e-45a1-b096-fad7c23fc665",
   "metadata": {},
   "outputs": [
    {
     "name": "stdout",
     "output_type": "stream",
     "text": [
      "Epoch 1/2\n",
      "\u001b[1m58/58\u001b[0m \u001b[32m━━━━━━━━━━━━━━━━━━━━\u001b[0m\u001b[37m\u001b[0m \u001b[1m87s\u001b[0m 1s/step - accuracy: 0.7386 - loss: 10.2162 - val_accuracy: 0.8484 - val_loss: 0.4134\n",
      "Epoch 2/2\n",
      "\u001b[1m58/58\u001b[0m \u001b[32m━━━━━━━━━━━━━━━━━━━━\u001b[0m\u001b[37m\u001b[0m \u001b[1m88s\u001b[0m 2s/step - accuracy: 0.8497 - loss: 0.4263 - val_accuracy: 0.8484 - val_loss: 0.3176\n"
     ]
    },
    {
     "data": {
      "text/plain": [
       "<keras.src.callbacks.history.History at 0x1eee2af3c90>"
      ]
     },
     "execution_count": 11,
     "metadata": {},
     "output_type": "execute_result"
    }
   ],
   "source": [
    "#Training the model\n",
    "model.fit(train_generator,epochs=2,validation_data=test_generator)"
   ]
  },
  {
   "cell_type": "code",
   "execution_count": 33,
   "id": "566ce605-be0a-49da-9659-3ab59d040fb0",
   "metadata": {},
   "outputs": [
    {
     "ename": "error",
     "evalue": "OpenCV(4.9.0) D:\\a\\opencv-python\\opencv-python\\opencv\\modules\\highgui\\src\\window.cpp:1272: error: (-2:Unspecified error) The function is not implemented. Rebuild the library with Windows, GTK+ 2.x or Cocoa support. If you are on Ubuntu or Debian, install libgtk2.0-dev and pkg-config, then re-run cmake or configure script in function 'cvShowImage'\n",
     "output_type": "error",
     "traceback": [
      "\u001b[1;31m---------------------------------------------------------------------------\u001b[0m",
      "\u001b[1;31merror\u001b[0m                                     Traceback (most recent call last)",
      "Cell \u001b[1;32mIn[33], line 3\u001b[0m\n\u001b[0;32m      1\u001b[0m \u001b[38;5;66;03m#Testing with own Input\u001b[39;00m\n\u001b[0;32m      2\u001b[0m new_image \u001b[38;5;241m=\u001b[39m cv2\u001b[38;5;241m.\u001b[39mimread(\u001b[38;5;124m\"\u001b[39m\u001b[38;5;124m295431.jpg\u001b[39m\u001b[38;5;124m\"\u001b[39m)\n\u001b[1;32m----> 3\u001b[0m cv2\u001b[38;5;241m.\u001b[39mimshow(\u001b[38;5;124m\"\u001b[39m\u001b[38;5;124mInput image\u001b[39m\u001b[38;5;124m\"\u001b[39m,new_image)\n\u001b[0;32m      4\u001b[0m cv2\u001b[38;5;241m.\u001b[39mwaitkey(\u001b[38;5;241m0\u001b[39m)\n\u001b[0;32m      5\u001b[0m \u001b[38;5;28mprint\u001b[39m(new_image\u001b[38;5;241m.\u001b[39mshape)\n",
      "\u001b[1;31merror\u001b[0m: OpenCV(4.9.0) D:\\a\\opencv-python\\opencv-python\\opencv\\modules\\highgui\\src\\window.cpp:1272: error: (-2:Unspecified error) The function is not implemented. Rebuild the library with Windows, GTK+ 2.x or Cocoa support. If you are on Ubuntu or Debian, install libgtk2.0-dev and pkg-config, then re-run cmake or configure script in function 'cvShowImage'\n"
     ]
    }
   ],
   "source": [
    "#Testing with own Input\n",
    "new_image = cv2.imread(\"295431.jpg\")\n",
    "cv2.imshow(\"Input image\",new_image)\n",
    "print(new_image.shape)\n",
    "resized_image = cv2.resize(new_image,(28, 28))\n",
    "#print(resized_image)\n",
    "new_image = resized_image.reshape((1, 28, 28, 1))\n",
    "#print(new_image)\n",
    "predictions = model.predict(new_image)\n",
    "predicted_digit = np.argmax(predictions[0])\n",
    "print(\"Captcha Text:\", predicte_digit)"
   ]
  },
  {
   "cell_type": "code",
   "execution_count": 24,
   "id": "e072b02a-aa6a-419d-91ac-3019befdd3b7",
   "metadata": {},
   "outputs": [
    {
     "name": "stdout",
     "output_type": "stream",
     "text": [
      "\u001b[1m58/58\u001b[0m \u001b[32m━━━━━━━━━━━━━━━━━━━━\u001b[0m\u001b[37m\u001b[0m \u001b[1m15s\u001b[0m 264ms/step - accuracy: 0.8306 - loss: 0.3420\n",
      "Test Accuracy: 85\n"
     ]
    }
   ],
   "source": [
    "#Validation\n",
    "test_loss, test_acc = model.evaluate(test_generator)\n",
    "print(\"Test Accuracy:\", round(test_acc*100))"
   ]
  }
 ],
 "metadata": {
  "kernelspec": {
   "display_name": "Python 3 (ipykernel)",
   "language": "python",
   "name": "python3"
  },
  "language_info": {
   "codemirror_mode": {
    "name": "ipython",
    "version": 3
   },
   "file_extension": ".py",
   "mimetype": "text/x-python",
   "name": "python",
   "nbconvert_exporter": "python",
   "pygments_lexer": "ipython3",
   "version": "3.11.7"
  }
 },
 "nbformat": 4,
 "nbformat_minor": 5
}
